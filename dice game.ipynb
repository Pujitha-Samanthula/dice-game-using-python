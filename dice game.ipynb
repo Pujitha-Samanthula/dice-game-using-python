{
 "cells": [
  {
   "cell_type": "code",
   "execution_count": 39,
   "id": "7babd788-4f7e-4b0d-9f9e-7570f99ffd68",
   "metadata": {},
   "outputs": [
    {
     "name": "stdin",
     "output_type": "stream",
     "text": [
      "enter how many players do you want to play 4\n"
     ]
    },
    {
     "name": "stdout",
     "output_type": "stream",
     "text": [
      "1 person got extra chance for 2 consecutive throws\n",
      "2 person got extra chance for 6\n",
      "3 person got extra chance for 2 consecutive throws\n",
      "[[3, 4, 4, 4], [3, 2, 6, 1, 2, 3], [3, 1, 1, 4, 3, 1], [1, 2, 4, 5, 4]]\n",
      "{1: 15, 2: 17, 3: 13, 4: 16}\n",
      " 2 person got the highest score so she is a winner\n"
     ]
    }
   ],
   "source": [
    "#Dice game\n",
    "import random\n",
    "how_many_players=int(input(\"enter how many players do you want to play\"))\n",
    "list1=[]\n",
    "for i in range(how_many_players):\n",
    "    list1.append([])\n",
    "for j in range(how_many_players):\n",
    "    count=1\n",
    "    while count<=5:\n",
    "        number=random.randint(1,6)\n",
    "        list1[j].append(number)\n",
    "        count+=1\n",
    "        if count>3:\n",
    "            if list1[j][-1]==list1[j][-2]==list1[j][-3]:\n",
    "                break\n",
    "        if count>2:\n",
    "            if list1[j][-1]==list1[j][-2]:\n",
    "                count-=1\n",
    "                print(f\"{j+1} person got extra chance for 2 consecutive throws\")\n",
    "    \n",
    "    if 6 in list1[j]:\n",
    "        print(f\"{j+1} person got extra chance for 6\")\n",
    "        extra_chance=random.randint(1,6)\n",
    "        list1[j].append(extra_chance)\n",
    "\n",
    "    \n",
    "print(list1)\n",
    "dicti={}\n",
    "x=1\n",
    "for i in list1:\n",
    "    dicti[x]=sum(i)\n",
    "    x+=1\n",
    "print(dicti)\n",
    "desc_values=dict(sorted(dicti.items(),key=lambda item: item[1], reverse=True))\n",
    "high_score=list(desc_values.keys())[0]\n",
    "print(f\" {high_score} person got the highest score so she is a winner\")"
   ]
  },
  {
   "cell_type": "code",
   "execution_count": null,
   "id": "c463b96a-aa6a-41e2-8ca0-12da003de3bc",
   "metadata": {},
   "outputs": [],
   "source": []
  }
 ],
 "metadata": {
  "kernelspec": {
   "display_name": "Python 3 (ipykernel)",
   "language": "python",
   "name": "python3"
  },
  "language_info": {
   "codemirror_mode": {
    "name": "ipython",
    "version": 3
   },
   "file_extension": ".py",
   "mimetype": "text/x-python",
   "name": "python",
   "nbconvert_exporter": "python",
   "pygments_lexer": "ipython3",
   "version": "3.12.4"
  }
 },
 "nbformat": 4,
 "nbformat_minor": 5
}
